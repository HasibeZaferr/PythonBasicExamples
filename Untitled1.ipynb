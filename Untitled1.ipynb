{
  "nbformat": 4,
  "nbformat_minor": 0,
  "metadata": {
    "colab": {
      "name": "Untitled1.ipynb",
      "version": "0.3.2",
      "provenance": [],
      "include_colab_link": true
    },
    "kernelspec": {
      "name": "python3",
      "display_name": "Python 3"
    }
  },
  "cells": [
    {
      "cell_type": "markdown",
      "metadata": {
        "id": "view-in-github",
        "colab_type": "text"
      },
      "source": [
        "<a href=\"https://colab.research.google.com/github/HasibeZaferr/PythonBasicExamples/blob/master/Untitled1.ipynb\" target=\"_parent\"><img src=\"https://colab.research.google.com/assets/colab-badge.svg\" alt=\"Open In Colab\"/></a>"
      ]
    },
    {
      "metadata": {
        "id": "qCiJWbcSX2v3",
        "colab_type": "text"
      },
      "cell_type": "markdown",
      "source": [
        "##print()"
      ]
    },
    {
      "metadata": {
        "id": "K9Cdx6KBKhNF",
        "colab_type": "code",
        "colab": {
          "base_uri": "https://localhost:8080/",
          "height": 34
        },
        "outputId": "e54ce865-989c-4933-de03-b184681308a0"
      },
      "cell_type": "code",
      "source": [
        "print(\"Hello, World!\")"
      ],
      "execution_count": 2,
      "outputs": [
        {
          "output_type": "stream",
          "text": [
            "Hello, World!\n"
          ],
          "name": "stdout"
        }
      ]
    },
    {
      "metadata": {
        "id": "A8v78q2XRPve",
        "colab_type": "text"
      },
      "cell_type": "markdown",
      "source": [
        "## .format Kullanımı"
      ]
    },
    {
      "metadata": {
        "id": "hZMg7XaCQRjl",
        "colab_type": "code",
        "colab": {
          "base_uri": "https://localhost:8080/",
          "height": 34
        },
        "outputId": "dce8514a-10ae-4f68-fa60-1137bd129ec7"
      },
      "cell_type": "code",
      "source": [
        "isim = \"hasibe\"\n",
        "yas = 26\n",
        "soyad = \"zafer\"\n",
        "\n",
        "print(\"{} {} {} yaşındadır\".format(isim,soyad,yas))"
      ],
      "execution_count": 20,
      "outputs": [
        {
          "output_type": "stream",
          "text": [
            "hasibe zafer 26 yaşındadır\n"
          ],
          "name": "stdout"
        }
      ]
    },
    {
      "metadata": {
        "id": "dErJOeyZTMtQ",
        "colab_type": "text"
      },
      "cell_type": "markdown",
      "source": [
        "## Karakter dizilerini yazdırma"
      ]
    },
    {
      "metadata": {
        "id": "C6cOC05KSVDs",
        "colab_type": "code",
        "colab": {
          "base_uri": "https://localhost:8080/",
          "height": 51
        },
        "outputId": "31d6005b-fc02-4215-c720-cf7b03dc9cb9"
      },
      "cell_type": "code",
      "source": [
        "isim = \"Pyton Öğreniyorum\"\n",
        "print(isim[1])\n",
        "\n",
        "print(isim[0:7])"
      ],
      "execution_count": 19,
      "outputs": [
        {
          "output_type": "stream",
          "text": [
            "y\n",
            "Pyton Ö\n"
          ],
          "name": "stdout"
        }
      ]
    },
    {
      "metadata": {
        "id": "ePjQJ6HyTvqz",
        "colab_type": "text"
      },
      "cell_type": "markdown",
      "source": [
        "## strip() fonksiyonu"
      ]
    },
    {
      "metadata": {
        "id": "k5V7r2W5TvDt",
        "colab_type": "code",
        "colab": {
          "base_uri": "https://localhost:8080/",
          "height": 51
        },
        "outputId": "4cf8c14b-c281-4f0e-c000-2d64a1bd2ca4"
      },
      "cell_type": "code",
      "source": [
        "isim = \"Pyton Öğreniyorum  \"\n",
        "\n",
        "print(len(isim))\n",
        "isim = isim.strip()\n",
        "print(len(isim))"
      ],
      "execution_count": 18,
      "outputs": [
        {
          "output_type": "stream",
          "text": [
            "19\n",
            "17\n"
          ],
          "name": "stdout"
        }
      ]
    },
    {
      "metadata": {
        "id": "Sqj2lAXiVBSW",
        "colab_type": "text"
      },
      "cell_type": "markdown",
      "source": [
        "## lower() fonksiyonu"
      ]
    },
    {
      "metadata": {
        "id": "BGvh5lmcVGIt",
        "colab_type": "code",
        "colab": {
          "base_uri": "https://localhost:8080/",
          "height": 34
        },
        "outputId": "6d78e071-5293-4d41-d5a5-234afbdba465"
      },
      "cell_type": "code",
      "source": [
        "isim = \"Pyton Öğreniyorum\"\n",
        "print(isim.lower())"
      ],
      "execution_count": 16,
      "outputs": [
        {
          "output_type": "stream",
          "text": [
            "pyton öğreniyorum\n"
          ],
          "name": "stdout"
        }
      ]
    },
    {
      "metadata": {
        "id": "vFr2iUvWVOIo",
        "colab_type": "text"
      },
      "cell_type": "markdown",
      "source": [
        "## upper() fonksiyonu"
      ]
    },
    {
      "metadata": {
        "id": "G6cHpLH0VRLG",
        "colab_type": "code",
        "colab": {
          "base_uri": "https://localhost:8080/",
          "height": 34
        },
        "outputId": "151e5e94-d5f2-41b8-f5f6-e526a86baf05"
      },
      "cell_type": "code",
      "source": [
        "isim = \"Pyton Öğreniyorum\"\n",
        "print(isim.upper())"
      ],
      "execution_count": 17,
      "outputs": [
        {
          "output_type": "stream",
          "text": [
            "PYTON ÖĞRENIYORUM\n"
          ],
          "name": "stdout"
        }
      ]
    },
    {
      "metadata": {
        "id": "6qwyHpNJVl49",
        "colab_type": "text"
      },
      "cell_type": "markdown",
      "source": [
        "##replace() fonksiyonu"
      ]
    },
    {
      "metadata": {
        "id": "N4dvNB7nVrD7",
        "colab_type": "code",
        "colab": {
          "base_uri": "https://localhost:8080/",
          "height": 51
        },
        "outputId": "8993d1ce-40aa-4fe0-f8ad-27300de43b0e"
      },
      "cell_type": "code",
      "source": [
        "isim = \"Pyton Öğreniyorum\"\n",
        "print(isim.replace(\"o\",\"a\"))\n",
        "\n",
        "isim = \"Pyton Öğreniyorum\"\n",
        "print(isim.replace(\"o\",\"a\").replace(\"e\",\"a\"))\n"
      ],
      "execution_count": 25,
      "outputs": [
        {
          "output_type": "stream",
          "text": [
            "Pytan Öğreniyarum\n",
            "Pytan Öğraniyarum\n"
          ],
          "name": "stdout"
        }
      ]
    },
    {
      "metadata": {
        "id": "Dohx5RufZDFc",
        "colab_type": "text"
      },
      "cell_type": "markdown",
      "source": [
        "## input() fonksiyonu"
      ]
    },
    {
      "metadata": {
        "id": "WA6cbjebZHjd",
        "colab_type": "code",
        "colab": {
          "base_uri": "https://localhost:8080/",
          "height": 68
        },
        "outputId": "acb5c804-a093-41fa-a875-effbb5f5ebf8"
      },
      "cell_type": "code",
      "source": [
        "print(\"Adını Gir\")\n",
        "isim = input()\n",
        "print(\"Girdiğiniz isim : {}\".format(isim))"
      ],
      "execution_count": 27,
      "outputs": [
        {
          "output_type": "stream",
          "text": [
            "Adını Gir\n",
            "Hasibe\n",
            "Girdiğiniz isim : Hasibe\n"
          ],
          "name": "stdout"
        }
      ]
    },
    {
      "metadata": {
        "id": "FgIJdwSlZ4dj",
        "colab_type": "text"
      },
      "cell_type": "markdown",
      "source": [
        "## Doğum yılından yaş hesaplayan örnek"
      ]
    },
    {
      "metadata": {
        "id": "TQVBlV-3Z9Jf",
        "colab_type": "code",
        "colab": {
          "base_uri": "https://localhost:8080/",
          "height": 68
        },
        "outputId": "8a106da8-1621-4da5-f1e5-cc0e43558715"
      },
      "cell_type": "code",
      "source": [
        "print(\"Doğum Yılını Gir\")\n",
        "dogumyili = int(input())\n",
        "yas = 2019 - dogumyili\n",
        "print(\"Yaşınız: {}\".format(yas))"
      ],
      "execution_count": 29,
      "outputs": [
        {
          "output_type": "stream",
          "text": [
            "Doğum Yılını Gir\n",
            "1993\n",
            "Yaşınız: 26\n"
          ],
          "name": "stdout"
        }
      ]
    },
    {
      "metadata": {
        "id": "vwK7kdIOfdh6",
        "colab_type": "text"
      },
      "cell_type": "markdown",
      "source": [
        "## List"
      ]
    },
    {
      "metadata": {
        "id": "GylLF1gqff5o",
        "colab_type": "code",
        "colab": {
          "base_uri": "https://localhost:8080/",
          "height": 51
        },
        "outputId": "f2b8537f-8898-486c-d55c-726e6a8cde76"
      },
      "cell_type": "code",
      "source": [
        "dersler = [\"python\", \"java\", \"swift\"]\n",
        "print(dersler)\n",
        "\n",
        "#listenin ilk elemanını yazdıralım\n",
        "print(dersler[0])"
      ],
      "execution_count": 34,
      "outputs": [
        {
          "output_type": "stream",
          "text": [
            "['python', 'java', 'swift']\n",
            "python\n"
          ],
          "name": "stdout"
        }
      ]
    },
    {
      "metadata": {
        "id": "cDqlndu4gXe-",
        "colab_type": "text"
      },
      "cell_type": "markdown",
      "source": [
        "## append()"
      ]
    },
    {
      "metadata": {
        "id": "ppV9bvunge31",
        "colab_type": "code",
        "colab": {
          "base_uri": "https://localhost:8080/",
          "height": 34
        },
        "outputId": "74ad8f34-c8ed-4aec-8414-1bcde0865437"
      },
      "cell_type": "code",
      "source": [
        "dersler = [\"python\", \"java\", \"swift\"]\n",
        "dersler.append(\"php\")\n",
        "print(dersler)"
      ],
      "execution_count": 36,
      "outputs": [
        {
          "output_type": "stream",
          "text": [
            "['python', 'java', 'swift', 'php']\n"
          ],
          "name": "stdout"
        }
      ]
    },
    {
      "metadata": {
        "id": "xTcxN7EQg0wk",
        "colab_type": "text"
      },
      "cell_type": "markdown",
      "source": [
        "## insert()"
      ]
    },
    {
      "metadata": {
        "id": "jEvfAie2g3Q2",
        "colab_type": "code",
        "colab": {
          "base_uri": "https://localhost:8080/",
          "height": 34
        },
        "outputId": "f4623c32-8819-4749-e534-fc70ca6c60a5"
      },
      "cell_type": "code",
      "source": [
        "dersler = [\"python\", \"java\", \"swift\"]\n",
        "dersler.insert(1,\"php\")\n",
        "print(dersler)"
      ],
      "execution_count": 40,
      "outputs": [
        {
          "output_type": "stream",
          "text": [
            "['python', 'php', 'java', 'swift']\n"
          ],
          "name": "stdout"
        }
      ]
    },
    {
      "metadata": {
        "id": "y0SeAzaEhEP6",
        "colab_type": "text"
      },
      "cell_type": "markdown",
      "source": [
        "## remove()"
      ]
    },
    {
      "metadata": {
        "id": "WRGFzxfahGKR",
        "colab_type": "code",
        "colab": {
          "base_uri": "https://localhost:8080/",
          "height": 34
        },
        "outputId": "0e2560e8-58d6-47b5-c0d6-5a0a6198d5ef"
      },
      "cell_type": "code",
      "source": [
        "dersler = [\"python\", \"java\", \"swift\"]\n",
        "dersler.remove(\"java\")\n",
        "print(dersler)"
      ],
      "execution_count": 44,
      "outputs": [
        {
          "output_type": "stream",
          "text": [
            "['python', 'swift']\n"
          ],
          "name": "stdout"
        }
      ]
    },
    {
      "metadata": {
        "id": "kDgu1KfehtjG",
        "colab_type": "text"
      },
      "cell_type": "markdown",
      "source": [
        "## pop()"
      ]
    },
    {
      "metadata": {
        "id": "ExQoXbdchvJi",
        "colab_type": "code",
        "colab": {
          "base_uri": "https://localhost:8080/",
          "height": 34
        },
        "outputId": "39ec051b-37c3-44d9-95d8-1e275aec9cc6"
      },
      "cell_type": "code",
      "source": [
        "dersler = [\"python\", \"java\", \"swift\"]\n",
        "dersler.pop()\n",
        "print(dersler)"
      ],
      "execution_count": 43,
      "outputs": [
        {
          "output_type": "stream",
          "text": [
            "['python', 'java']\n"
          ],
          "name": "stdout"
        }
      ]
    },
    {
      "metadata": {
        "id": "LJFbfFnFiB9s",
        "colab_type": "text"
      },
      "cell_type": "markdown",
      "source": [
        "## del"
      ]
    },
    {
      "metadata": {
        "id": "tJbCbgcFiFCK",
        "colab_type": "code",
        "colab": {
          "base_uri": "https://localhost:8080/",
          "height": 34
        },
        "outputId": "bb27af35-c997-4ae6-c5a2-c1f0b6759d54"
      },
      "cell_type": "code",
      "source": [
        "dersler = [\"python\", \"java\", \"swift\"]\n",
        "del dersler[1]\n",
        "print(dersler)\n"
      ],
      "execution_count": 49,
      "outputs": [
        {
          "output_type": "stream",
          "text": [
            "['python', 'swift']\n"
          ],
          "name": "stdout"
        }
      ]
    },
    {
      "metadata": {
        "id": "hKssnPuEjPTY",
        "colab_type": "text"
      },
      "cell_type": "markdown",
      "source": [
        "## liste için len"
      ]
    },
    {
      "metadata": {
        "id": "y2LNii67jTrq",
        "colab_type": "code",
        "colab": {
          "base_uri": "https://localhost:8080/",
          "height": 34
        },
        "outputId": "72d86d0e-eef0-44a6-edb0-3a01bcf1da8f"
      },
      "cell_type": "code",
      "source": [
        "dersler = [\"python\", \"java\", \"swift\"]\n",
        "print(len(dersler))"
      ],
      "execution_count": 51,
      "outputs": [
        {
          "output_type": "stream",
          "text": [
            "3\n"
          ],
          "name": "stdout"
        }
      ]
    },
    {
      "metadata": {
        "id": "nlggjqtuj4zo",
        "colab_type": "text"
      },
      "cell_type": "markdown",
      "source": [
        "## for()"
      ]
    },
    {
      "metadata": {
        "id": "514GC_TVj6iT",
        "colab_type": "code",
        "colab": {
          "base_uri": "https://localhost:8080/",
          "height": 68
        },
        "outputId": "dbc022a1-fa24-4323-c2ed-33c1a41a0a94"
      },
      "cell_type": "code",
      "source": [
        "dersler = [\"python\", \"java\", \"swift\"]\n",
        "for ders in dersler:\n",
        "  print(ders)"
      ],
      "execution_count": 52,
      "outputs": [
        {
          "output_type": "stream",
          "text": [
            "python\n",
            "java\n",
            "swift\n"
          ],
          "name": "stdout"
        }
      ]
    },
    {
      "metadata": {
        "id": "eG9XDq4zkRLR",
        "colab_type": "code",
        "colab": {
          "base_uri": "https://localhost:8080/",
          "height": 68
        },
        "outputId": "c02758fe-e6a9-4c97-f2a3-fc3adf147e69"
      },
      "cell_type": "code",
      "source": [
        "dersler = [\"python\", \"java\", \"swift\"]\n",
        "for i in range(len(dersler)):\n",
        "  print(dersler[i])"
      ],
      "execution_count": 57,
      "outputs": [
        {
          "output_type": "stream",
          "text": [
            "python\n",
            "java\n",
            "swift\n"
          ],
          "name": "stdout"
        }
      ]
    }
  ]
}