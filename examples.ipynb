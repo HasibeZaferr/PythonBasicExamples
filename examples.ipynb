{
  "nbformat": 4,
  "nbformat_minor": 0,
  "metadata": {
    "colab": {
      "name": "Untitled1.ipynb",
      "version": "0.3.2",
      "provenance": [],
      "toc_visible": true,
      "include_colab_link": true
    },
    "kernelspec": {
      "name": "python3",
      "display_name": "Python 3"
    }
  },
  "cells": [
    {
      "cell_type": "markdown",
      "metadata": {
        "id": "view-in-github",
        "colab_type": "text"
      },
      "source": [
        "<a href=\"https://colab.research.google.com/github/HasibeZaferr/PythonBasicExamples/blob/master/examples.ipynb\" target=\"_parent\"><img src=\"https://colab.research.google.com/assets/colab-badge.svg\" alt=\"Open In Colab\"/></a>"
      ]
    },
    {
      "metadata": {
        "id": "qCiJWbcSX2v3",
        "colab_type": "text"
      },
      "cell_type": "markdown",
      "source": [
        "##print()"
      ]
    },
    {
      "metadata": {
        "id": "K9Cdx6KBKhNF",
        "colab_type": "code",
        "colab": {
          "base_uri": "https://localhost:8080/",
          "height": 34
        },
        "outputId": "e54ce865-989c-4933-de03-b184681308a0"
      },
      "cell_type": "code",
      "source": [
        "print(\"Hello, World!\")"
      ],
      "execution_count": 2,
      "outputs": [
        {
          "output_type": "stream",
          "text": [
            "Hello, World!\n"
          ],
          "name": "stdout"
        }
      ]
    },
    {
      "metadata": {
        "id": "A8v78q2XRPve",
        "colab_type": "text"
      },
      "cell_type": "markdown",
      "source": [
        "## .format Kullanımı"
      ]
    },
    {
      "metadata": {
        "id": "hZMg7XaCQRjl",
        "colab_type": "code",
        "colab": {
          "base_uri": "https://localhost:8080/",
          "height": 34
        },
        "outputId": "dce8514a-10ae-4f68-fa60-1137bd129ec7"
      },
      "cell_type": "code",
      "source": [
        "isim = \"hasibe\"\n",
        "yas = 26\n",
        "soyad = \"zafer\"\n",
        "\n",
        "print(\"{} {} {} yaşındadır\".format(isim,soyad,yas))"
      ],
      "execution_count": 20,
      "outputs": [
        {
          "output_type": "stream",
          "text": [
            "hasibe zafer 26 yaşındadır\n"
          ],
          "name": "stdout"
        }
      ]
    },
    {
      "metadata": {
        "id": "dErJOeyZTMtQ",
        "colab_type": "text"
      },
      "cell_type": "markdown",
      "source": [
        "## Karakter dizilerini yazdırma"
      ]
    },
    {
      "metadata": {
        "id": "C6cOC05KSVDs",
        "colab_type": "code",
        "colab": {
          "base_uri": "https://localhost:8080/",
          "height": 51
        },
        "outputId": "31d6005b-fc02-4215-c720-cf7b03dc9cb9"
      },
      "cell_type": "code",
      "source": [
        "isim = \"Pyton Öğreniyorum\"\n",
        "print(isim[1])\n",
        "\n",
        "print(isim[0:7])"
      ],
      "execution_count": 19,
      "outputs": [
        {
          "output_type": "stream",
          "text": [
            "y\n",
            "Pyton Ö\n"
          ],
          "name": "stdout"
        }
      ]
    },
    {
      "metadata": {
        "id": "ePjQJ6HyTvqz",
        "colab_type": "text"
      },
      "cell_type": "markdown",
      "source": [
        "## strip() fonksiyonu"
      ]
    },
    {
      "metadata": {
        "id": "k5V7r2W5TvDt",
        "colab_type": "code",
        "colab": {
          "base_uri": "https://localhost:8080/",
          "height": 51
        },
        "outputId": "4cf8c14b-c281-4f0e-c000-2d64a1bd2ca4"
      },
      "cell_type": "code",
      "source": [
        "isim = \"Pyton Öğreniyorum  \"\n",
        "\n",
        "print(len(isim))\n",
        "isim = isim.strip()\n",
        "print(len(isim))"
      ],
      "execution_count": 18,
      "outputs": [
        {
          "output_type": "stream",
          "text": [
            "19\n",
            "17\n"
          ],
          "name": "stdout"
        }
      ]
    },
    {
      "metadata": {
        "id": "Sqj2lAXiVBSW",
        "colab_type": "text"
      },
      "cell_type": "markdown",
      "source": [
        "## lower() fonksiyonu"
      ]
    },
    {
      "metadata": {
        "id": "BGvh5lmcVGIt",
        "colab_type": "code",
        "colab": {
          "base_uri": "https://localhost:8080/",
          "height": 34
        },
        "outputId": "6d78e071-5293-4d41-d5a5-234afbdba465"
      },
      "cell_type": "code",
      "source": [
        "isim = \"Pyton Öğreniyorum\"\n",
        "print(isim.lower())"
      ],
      "execution_count": 16,
      "outputs": [
        {
          "output_type": "stream",
          "text": [
            "pyton öğreniyorum\n"
          ],
          "name": "stdout"
        }
      ]
    },
    {
      "metadata": {
        "id": "vFr2iUvWVOIo",
        "colab_type": "text"
      },
      "cell_type": "markdown",
      "source": [
        "## upper() fonksiyonu"
      ]
    },
    {
      "metadata": {
        "id": "G6cHpLH0VRLG",
        "colab_type": "code",
        "colab": {
          "base_uri": "https://localhost:8080/",
          "height": 34
        },
        "outputId": "151e5e94-d5f2-41b8-f5f6-e526a86baf05"
      },
      "cell_type": "code",
      "source": [
        "isim = \"Pyton Öğreniyorum\"\n",
        "print(isim.upper())"
      ],
      "execution_count": 17,
      "outputs": [
        {
          "output_type": "stream",
          "text": [
            "PYTON ÖĞRENIYORUM\n"
          ],
          "name": "stdout"
        }
      ]
    },
    {
      "metadata": {
        "id": "6qwyHpNJVl49",
        "colab_type": "text"
      },
      "cell_type": "markdown",
      "source": [
        "##replace() fonksiyonu"
      ]
    },
    {
      "metadata": {
        "id": "N4dvNB7nVrD7",
        "colab_type": "code",
        "colab": {
          "base_uri": "https://localhost:8080/",
          "height": 51
        },
        "outputId": "8993d1ce-40aa-4fe0-f8ad-27300de43b0e"
      },
      "cell_type": "code",
      "source": [
        "isim = \"Pyton Öğreniyorum\"\n",
        "print(isim.replace(\"o\",\"a\"))\n",
        "\n",
        "isim = \"Pyton Öğreniyorum\"\n",
        "print(isim.replace(\"o\",\"a\").replace(\"e\",\"a\"))\n"
      ],
      "execution_count": 25,
      "outputs": [
        {
          "output_type": "stream",
          "text": [
            "Pytan Öğreniyarum\n",
            "Pytan Öğraniyarum\n"
          ],
          "name": "stdout"
        }
      ]
    },
    {
      "metadata": {
        "id": "Dohx5RufZDFc",
        "colab_type": "text"
      },
      "cell_type": "markdown",
      "source": [
        "## input() fonksiyonu"
      ]
    },
    {
      "metadata": {
        "id": "WA6cbjebZHjd",
        "colab_type": "code",
        "colab": {
          "base_uri": "https://localhost:8080/",
          "height": 68
        },
        "outputId": "acb5c804-a093-41fa-a875-effbb5f5ebf8"
      },
      "cell_type": "code",
      "source": [
        "print(\"Adını Gir\")\n",
        "isim = input()\n",
        "print(\"Girdiğiniz isim : {}\".format(isim))"
      ],
      "execution_count": 27,
      "outputs": [
        {
          "output_type": "stream",
          "text": [
            "Adını Gir\n",
            "Hasibe\n",
            "Girdiğiniz isim : Hasibe\n"
          ],
          "name": "stdout"
        }
      ]
    },
    {
      "metadata": {
        "id": "FgIJdwSlZ4dj",
        "colab_type": "text"
      },
      "cell_type": "markdown",
      "source": [
        "## Doğum yılından yaş hesaplayan örnek"
      ]
    },
    {
      "metadata": {
        "id": "TQVBlV-3Z9Jf",
        "colab_type": "code",
        "colab": {
          "base_uri": "https://localhost:8080/",
          "height": 68
        },
        "outputId": "8a106da8-1621-4da5-f1e5-cc0e43558715"
      },
      "cell_type": "code",
      "source": [
        "print(\"Doğum Yılını Gir\")\n",
        "dogumyili = int(input())\n",
        "yas = 2019 - dogumyili\n",
        "print(\"Yaşınız: {}\".format(yas))"
      ],
      "execution_count": 29,
      "outputs": [
        {
          "output_type": "stream",
          "text": [
            "Doğum Yılını Gir\n",
            "1993\n",
            "Yaşınız: 26\n"
          ],
          "name": "stdout"
        }
      ]
    },
    {
      "metadata": {
        "id": "vwK7kdIOfdh6",
        "colab_type": "text"
      },
      "cell_type": "markdown",
      "source": [
        "## List"
      ]
    },
    {
      "metadata": {
        "id": "GylLF1gqff5o",
        "colab_type": "code",
        "colab": {
          "base_uri": "https://localhost:8080/",
          "height": 51
        },
        "outputId": "f2b8537f-8898-486c-d55c-726e6a8cde76"
      },
      "cell_type": "code",
      "source": [
        "dersler = [\"python\", \"java\", \"swift\"]\n",
        "print(dersler)\n",
        "\n",
        "#listenin ilk elemanını yazdıralım\n",
        "print(dersler[0])"
      ],
      "execution_count": 34,
      "outputs": [
        {
          "output_type": "stream",
          "text": [
            "['python', 'java', 'swift']\n",
            "python\n"
          ],
          "name": "stdout"
        }
      ]
    },
    {
      "metadata": {
        "id": "cDqlndu4gXe-",
        "colab_type": "text"
      },
      "cell_type": "markdown",
      "source": [
        "## append()"
      ]
    },
    {
      "metadata": {
        "id": "ppV9bvunge31",
        "colab_type": "code",
        "colab": {
          "base_uri": "https://localhost:8080/",
          "height": 34
        },
        "outputId": "74ad8f34-c8ed-4aec-8414-1bcde0865437"
      },
      "cell_type": "code",
      "source": [
        "dersler = [\"python\", \"java\", \"swift\"]\n",
        "dersler.append(\"php\")\n",
        "print(dersler)"
      ],
      "execution_count": 36,
      "outputs": [
        {
          "output_type": "stream",
          "text": [
            "['python', 'java', 'swift', 'php']\n"
          ],
          "name": "stdout"
        }
      ]
    },
    {
      "metadata": {
        "id": "xTcxN7EQg0wk",
        "colab_type": "text"
      },
      "cell_type": "markdown",
      "source": [
        "## insert()"
      ]
    },
    {
      "metadata": {
        "id": "jEvfAie2g3Q2",
        "colab_type": "code",
        "colab": {
          "base_uri": "https://localhost:8080/",
          "height": 34
        },
        "outputId": "f4623c32-8819-4749-e534-fc70ca6c60a5"
      },
      "cell_type": "code",
      "source": [
        "dersler = [\"python\", \"java\", \"swift\"]\n",
        "dersler.insert(1,\"php\")\n",
        "print(dersler)"
      ],
      "execution_count": 40,
      "outputs": [
        {
          "output_type": "stream",
          "text": [
            "['python', 'php', 'java', 'swift']\n"
          ],
          "name": "stdout"
        }
      ]
    },
    {
      "metadata": {
        "id": "y0SeAzaEhEP6",
        "colab_type": "text"
      },
      "cell_type": "markdown",
      "source": [
        "## remove()"
      ]
    },
    {
      "metadata": {
        "id": "WRGFzxfahGKR",
        "colab_type": "code",
        "colab": {
          "base_uri": "https://localhost:8080/",
          "height": 34
        },
        "outputId": "0e2560e8-58d6-47b5-c0d6-5a0a6198d5ef"
      },
      "cell_type": "code",
      "source": [
        "dersler = [\"python\", \"java\", \"swift\"]\n",
        "dersler.remove(\"java\")\n",
        "print(dersler)"
      ],
      "execution_count": 44,
      "outputs": [
        {
          "output_type": "stream",
          "text": [
            "['python', 'swift']\n"
          ],
          "name": "stdout"
        }
      ]
    },
    {
      "metadata": {
        "id": "kDgu1KfehtjG",
        "colab_type": "text"
      },
      "cell_type": "markdown",
      "source": [
        "## pop()"
      ]
    },
    {
      "metadata": {
        "id": "ExQoXbdchvJi",
        "colab_type": "code",
        "colab": {
          "base_uri": "https://localhost:8080/",
          "height": 34
        },
        "outputId": "39ec051b-37c3-44d9-95d8-1e275aec9cc6"
      },
      "cell_type": "code",
      "source": [
        "dersler = [\"python\", \"java\", \"swift\"]\n",
        "dersler.pop()\n",
        "print(dersler)"
      ],
      "execution_count": 43,
      "outputs": [
        {
          "output_type": "stream",
          "text": [
            "['python', 'java']\n"
          ],
          "name": "stdout"
        }
      ]
    },
    {
      "metadata": {
        "id": "LJFbfFnFiB9s",
        "colab_type": "text"
      },
      "cell_type": "markdown",
      "source": [
        "## del"
      ]
    },
    {
      "metadata": {
        "id": "tJbCbgcFiFCK",
        "colab_type": "code",
        "colab": {
          "base_uri": "https://localhost:8080/",
          "height": 34
        },
        "outputId": "bb27af35-c997-4ae6-c5a2-c1f0b6759d54"
      },
      "cell_type": "code",
      "source": [
        "dersler = [\"python\", \"java\", \"swift\"]\n",
        "del dersler[1]\n",
        "print(dersler)\n"
      ],
      "execution_count": 49,
      "outputs": [
        {
          "output_type": "stream",
          "text": [
            "['python', 'swift']\n"
          ],
          "name": "stdout"
        }
      ]
    },
    {
      "metadata": {
        "id": "hKssnPuEjPTY",
        "colab_type": "text"
      },
      "cell_type": "markdown",
      "source": [
        "## liste için len"
      ]
    },
    {
      "metadata": {
        "id": "y2LNii67jTrq",
        "colab_type": "code",
        "colab": {
          "base_uri": "https://localhost:8080/",
          "height": 34
        },
        "outputId": "72d86d0e-eef0-44a6-edb0-3a01bcf1da8f"
      },
      "cell_type": "code",
      "source": [
        "dersler = [\"python\", \"java\", \"swift\"]\n",
        "print(len(dersler))"
      ],
      "execution_count": 51,
      "outputs": [
        {
          "output_type": "stream",
          "text": [
            "3\n"
          ],
          "name": "stdout"
        }
      ]
    },
    {
      "metadata": {
        "id": "nlggjqtuj4zo",
        "colab_type": "text"
      },
      "cell_type": "markdown",
      "source": [
        "## for()"
      ]
    },
    {
      "metadata": {
        "id": "514GC_TVj6iT",
        "colab_type": "code",
        "colab": {
          "base_uri": "https://localhost:8080/",
          "height": 68
        },
        "outputId": "dbc022a1-fa24-4323-c2ed-33c1a41a0a94"
      },
      "cell_type": "code",
      "source": [
        "dersler = [\"python\", \"java\", \"swift\"]\n",
        "for ders in dersler:\n",
        "  print(ders)"
      ],
      "execution_count": 52,
      "outputs": [
        {
          "output_type": "stream",
          "text": [
            "python\n",
            "java\n",
            "swift\n"
          ],
          "name": "stdout"
        }
      ]
    },
    {
      "metadata": {
        "id": "eG9XDq4zkRLR",
        "colab_type": "code",
        "colab": {
          "base_uri": "https://localhost:8080/",
          "height": 68
        },
        "outputId": "c02758fe-e6a9-4c97-f2a3-fc3adf147e69"
      },
      "cell_type": "code",
      "source": [
        "dersler = [\"python\", \"java\", \"swift\"]\n",
        "for i in range(len(dersler)):\n",
        "  print(dersler[i])"
      ],
      "execution_count": 57,
      "outputs": [
        {
          "output_type": "stream",
          "text": [
            "python\n",
            "java\n",
            "swift\n"
          ],
          "name": "stdout"
        }
      ]
    },
    {
      "metadata": {
        "id": "5Y2gmbcWxdqC",
        "colab_type": "text"
      },
      "cell_type": "markdown",
      "source": [
        "## Listede eleman kontrol etme"
      ]
    },
    {
      "metadata": {
        "id": "HQpeMABLxh_9",
        "colab_type": "code",
        "colab": {
          "base_uri": "https://localhost:8080/",
          "height": 130
        },
        "outputId": "40a17636-c50b-4817-db32-17f6af9cefd1"
      },
      "cell_type": "code",
      "source": [
        "dersler = [\"python\", \"java\", \"swift\"]\n",
        "if \"python\" in dersler:\n",
        "  print(\"var\")\n",
        "else\n",
        "  print(\"yok\")"
      ],
      "execution_count": 1,
      "outputs": [
        {
          "output_type": "error",
          "ename": "SyntaxError",
          "evalue": "ignored",
          "traceback": [
            "\u001b[0;36m  File \u001b[0;32m\"<ipython-input-1-6d78f2c9bfcb>\"\u001b[0;36m, line \u001b[0;32m4\u001b[0m\n\u001b[0;31m    else\u001b[0m\n\u001b[0m        ^\u001b[0m\n\u001b[0;31mSyntaxError\u001b[0m\u001b[0;31m:\u001b[0m invalid syntax\n"
          ]
        }
      ]
    },
    {
      "metadata": {
        "id": "f_yk-yOlyu7u",
        "colab_type": "text"
      },
      "cell_type": "markdown",
      "source": [
        "## if elif örnek"
      ]
    },
    {
      "metadata": {
        "id": "4ujvvE0vyyWW",
        "colab_type": "code",
        "colab": {
          "base_uri": "https://localhost:8080/",
          "height": 34
        },
        "outputId": "f0ba6540-2aa2-46b8-cf09-f32b3b7fb772"
      },
      "cell_type": "code",
      "source": [
        "sayi= 5\n",
        "if sayi in range(10):\n",
        "  print(\"rakamdır\")\n",
        "elif sayi in range(10,101) :\n",
        "  print(\"10 ile 100 arasındadır\")"
      ],
      "execution_count": 13,
      "outputs": [
        {
          "output_type": "stream",
          "text": [
            "rakamdır\n"
          ],
          "name": "stdout"
        }
      ]
    },
    {
      "metadata": {
        "id": "UiDh-tcSzlJT",
        "colab_type": "code",
        "colab": {
          "base_uri": "https://localhost:8080/",
          "height": 34
        },
        "outputId": "72dab98a-22c9-4caf-b108-f0647e198b4e"
      },
      "cell_type": "code",
      "source": [
        "sayi = 5\n",
        "if sayi<10:\n",
        "  print(\"rakamdır\")\n",
        "elif sayi>10 and sayi<101:\n",
        "  print(\"10 ile 100 arasındadır\")"
      ],
      "execution_count": 12,
      "outputs": [
        {
          "output_type": "stream",
          "text": [
            "rakamdır\n"
          ],
          "name": "stdout"
        }
      ]
    },
    {
      "metadata": {
        "id": "4d3rKeMJyVjL",
        "colab_type": "text"
      },
      "cell_type": "markdown",
      "source": [
        "## sort() fonksiyonu"
      ]
    },
    {
      "metadata": {
        "id": "G6nrcYtYyXzd",
        "colab_type": "code",
        "colab": {
          "base_uri": "https://localhost:8080/",
          "height": 34
        },
        "outputId": "3a5fa455-be7b-45e5-f687-b366d5f7f57b"
      },
      "cell_type": "code",
      "source": [
        "sayilar = [2,3,7,4,8,1,5,6]\n",
        "sayilar.sort()\n",
        "print(sayilar)"
      ],
      "execution_count": 18,
      "outputs": [
        {
          "output_type": "stream",
          "text": [
            "[1, 2, 3, 4, 5, 6, 7, 8]\n"
          ],
          "name": "stdout"
        }
      ]
    },
    {
      "metadata": {
        "id": "fZwhpr6lKzIP",
        "colab_type": "code",
        "colab": {
          "base_uri": "https://localhost:8080/",
          "height": 34
        },
        "outputId": "a4172908-2ed4-40f6-cb08-21d7d344e5f6"
      },
      "cell_type": "code",
      "source": [
        "sayilar = [2,3,7,4,8,1,5,6]\n",
        "sayilar.sort(reverse=True)\n",
        "print(sayilar)"
      ],
      "execution_count": 22,
      "outputs": [
        {
          "output_type": "stream",
          "text": [
            "[8, 7, 6, 5, 4, 3, 2, 1]\n"
          ],
          "name": "stdout"
        }
      ]
    },
    {
      "metadata": {
        "id": "sOjlIorVJK7U",
        "colab_type": "text"
      },
      "cell_type": "markdown",
      "source": [
        "## reverse() fonksiyonu\n"
      ]
    },
    {
      "metadata": {
        "id": "JAbZhTD2JPEP",
        "colab_type": "code",
        "colab": {
          "base_uri": "https://localhost:8080/",
          "height": 34
        },
        "outputId": "29891e16-0083-45b2-9360-9d0bfa59fbbc"
      },
      "cell_type": "code",
      "source": [
        "sayilar = [2,3,7,4,8,1,5,6]\n",
        "sayilar.reverse()\n",
        "print(sayilar)"
      ],
      "execution_count": 21,
      "outputs": [
        {
          "output_type": "stream",
          "text": [
            "[6, 5, 1, 8, 4, 7, 3, 2]\n"
          ],
          "name": "stdout"
        }
      ]
    },
    {
      "metadata": {
        "id": "H_vn9ByJYxxE",
        "colab_type": "text"
      },
      "cell_type": "markdown",
      "source": [
        "## random dizi üretme"
      ]
    },
    {
      "metadata": {
        "id": "d_zEEAREY1Iv",
        "colab_type": "code",
        "colab": {
          "base_uri": "https://localhost:8080/",
          "height": 34
        },
        "outputId": "ce865a50-27bb-498c-a06c-fd50df58df5d"
      },
      "cell_type": "code",
      "source": [
        "import random\n",
        "list = random.sample(range(30),9)\n",
        "print(list)"
      ],
      "execution_count": 39,
      "outputs": [
        {
          "output_type": "stream",
          "text": [
            "[28, 20, 22, 29, 19, 23, 17, 11, 12]\n"
          ],
          "name": "stdout"
        }
      ]
    },
    {
      "metadata": {
        "id": "KZLb9qkyZ1ze",
        "colab_type": "text"
      },
      "cell_type": "markdown",
      "source": [
        ""
      ]
    },
    {
      "metadata": {
        "id": "U4hd5cV3aZ55",
        "colab_type": "text"
      },
      "cell_type": "markdown",
      "source": [
        "## dictionaries"
      ]
    },
    {
      "metadata": {
        "id": "3ruzGMbTcxfw",
        "colab_type": "text"
      },
      "cell_type": "markdown",
      "source": [
        "A dictionary is a collection which is unordered, changeable and indexed. In Python dictionaries are written with curly brackets, and they have keys and values."
      ]
    },
    {
      "metadata": {
        "id": "q890Jzg9ajKA",
        "colab_type": "code",
        "colab": {
          "base_uri": "https://localhost:8080/",
          "height": 34
        },
        "outputId": "035e20b8-8d94-43bc-9e36-81259e76d946"
      },
      "cell_type": "code",
      "source": [
        "thisdict =\t{\n",
        "  \"brand\": \"Ford\",\n",
        "  \"model\": \"Mustang\",\n",
        "  \"year\": 1964\n",
        "}\n",
        "print(thisdict)\n",
        "\n"
      ],
      "execution_count": 51,
      "outputs": [
        {
          "output_type": "stream",
          "text": [
            "{'brand': 'Ford', 'model': 'Mustang', 'year': 1964}\n"
          ],
          "name": "stdout"
        }
      ]
    },
    {
      "metadata": {
        "id": "T4tJvVi_c2Nq",
        "colab_type": "text"
      },
      "cell_type": "markdown",
      "source": [
        "You can access the items of a dictionary by referring to its key name, inside square brackets:\n",
        "\n"
      ]
    },
    {
      "metadata": {
        "id": "uboW5Vb4cfR-",
        "colab_type": "code",
        "colab": {
          "base_uri": "https://localhost:8080/",
          "height": 34
        },
        "outputId": "7adbcfbb-bed6-4118-8e34-e2513f12e0f8"
      },
      "cell_type": "code",
      "source": [
        "thisdict =\t{\n",
        "  \"brand\": \"Ford\",\n",
        "  \"model\": \"Mustang\",\n",
        "  \"year\": 1964\n",
        "}\n",
        "x = thisdict[\"model\"]\n",
        "print(x)"
      ],
      "execution_count": 52,
      "outputs": [
        {
          "output_type": "stream",
          "text": [
            "Mustang\n"
          ],
          "name": "stdout"
        }
      ]
    },
    {
      "metadata": {
        "id": "ghrThvygc8Dg",
        "colab_type": "text"
      },
      "cell_type": "markdown",
      "source": [
        "You can change the value of a specific item by referring to its key name:"
      ]
    },
    {
      "metadata": {
        "id": "9pFWyefFco4H",
        "colab_type": "code",
        "colab": {
          "base_uri": "https://localhost:8080/",
          "height": 34
        },
        "outputId": "7222d4ee-4849-40b5-96a5-d2413cb39de6"
      },
      "cell_type": "code",
      "source": [
        "thisdict =\t{\n",
        "  \"brand\": \"Ford\",\n",
        "  \"model\": \"Mustang\",\n",
        "  \"year\": 1964\n",
        "}\n",
        "thisdict[\"year\"] = 2018\n",
        "print(thisdict)"
      ],
      "execution_count": 54,
      "outputs": [
        {
          "output_type": "stream",
          "text": [
            "{'brand': 'Ford', 'model': 'Mustang', 'year': 2018}\n"
          ],
          "name": "stdout"
        }
      ]
    },
    {
      "metadata": {
        "id": "ATJewAv1dAI1",
        "colab_type": "text"
      },
      "cell_type": "markdown",
      "source": [
        "## Loop Through a Dictionary"
      ]
    },
    {
      "metadata": {
        "id": "OY6QsaX4dBqD",
        "colab_type": "text"
      },
      "cell_type": "markdown",
      "source": [
        "You can loop through a dictionary by using a for loop.\n",
        "\n",
        "When looping through a dictionary, the return value are the keys of the dictionary, but there are methods to return the values as well."
      ]
    },
    {
      "metadata": {
        "id": "gYrx6e3_dZWf",
        "colab_type": "text"
      },
      "cell_type": "markdown",
      "source": [
        "\n",
        "**Print all key names in the dictionary, one by one:**"
      ]
    },
    {
      "metadata": {
        "id": "Ufx4NXgWdEI_",
        "colab_type": "code",
        "colab": {
          "base_uri": "https://localhost:8080/",
          "height": 68
        },
        "outputId": "58ce9e7e-e5a5-47a9-aeb1-b3dcd8715184"
      },
      "cell_type": "code",
      "source": [
        "thisdict =\t{\n",
        "  \"brand\": \"Ford\",\n",
        "  \"model\": \"Mustang\",\n",
        "  \"year\": 1964\n",
        "}\n",
        "\n",
        "for x in thisdict:\n",
        "  print(x)"
      ],
      "execution_count": 57,
      "outputs": [
        {
          "output_type": "stream",
          "text": [
            "brand\n",
            "model\n",
            "year\n"
          ],
          "name": "stdout"
        }
      ]
    },
    {
      "metadata": {
        "id": "ohxtA6BFdhDH",
        "colab_type": "text"
      },
      "cell_type": "markdown",
      "source": [
        "**Print all values in the dictionary, one by one:**"
      ]
    },
    {
      "metadata": {
        "id": "TWRwhN-1dmjn",
        "colab_type": "code",
        "colab": {
          "base_uri": "https://localhost:8080/",
          "height": 68
        },
        "outputId": "16237927-65ac-4a94-e3af-a782ff7ddcad"
      },
      "cell_type": "code",
      "source": [
        "thisdict =\t{\n",
        "  \"brand\": \"Ford\",\n",
        "  \"model\": \"Mustang\",\n",
        "  \"year\": 1964\n",
        "}\n",
        "for x in thisdict:\n",
        "  print(thisdict[x])"
      ],
      "execution_count": 58,
      "outputs": [
        {
          "output_type": "stream",
          "text": [
            "Ford\n",
            "Mustang\n",
            "1964\n"
          ],
          "name": "stdout"
        }
      ]
    },
    {
      "metadata": {
        "id": "JtCyn87sh2K2",
        "colab_type": "text"
      },
      "cell_type": "markdown",
      "source": [
        "## Dinamik sözlük uygulaması yapalım  Import os\n"
      ]
    },
    {
      "metadata": {
        "id": "uIctgEbFh3eD",
        "colab_type": "code",
        "colab": {
          "base_uri": "https://localhost:8080/",
          "height": 1153
        },
        "outputId": "e1f4ab69-3518-4717-f114-ef7fe1e2e0fc"
      },
      "cell_type": "code",
      "source": [
        "import csv\n",
        "from IPython.display import clear_output\n",
        "\n",
        "\n",
        "filename = 'dictionary.csv'\n",
        "dic = {}\n",
        "\n",
        "def listeyi_doldur():\n",
        "    try:\n",
        "      reader = csv.reader(open(filename, 'r'))\n",
        "     \n",
        "      for satir in reader:\n",
        "        ingilizce, turkce = satir\n",
        "        dic[ingilizce] = turkce\n",
        "    except FileNotFoundError:\n",
        "      open(filename, \"x\")\n",
        "\n",
        "      \n",
        "def kaydet():\n",
        "  w = csv.writer(open(filename, \"w\"))\n",
        "  for ingilizce, turkce in dic.items():\n",
        "    w.writerow([ingilizce, turkce])\n",
        "    \n",
        "def listele():\n",
        "  print(\"***************************************************\")\n",
        "  print(\"************************SÖZLÜK********************* \\n\")\n",
        "  for ingilizce, turkce in dic.items():\n",
        "      print(\"{} kelimesinin Türkçesi: {}\".format(ingilizce,turkce))\n",
        "  print(\"\\n***************************************************\")\n",
        "  print(\"***************************************************\")\n",
        "\n",
        "def arama(): \n",
        "    x= True\n",
        "    while x:\n",
        "      print(\"Sözlükte aranacak kelimeyi giriniz\")\n",
        "      x = input()\n",
        "      if x in dic:\n",
        "        print(\"{} kelimesinin Türkçesi: {}\".format(x,dic[x]))\n",
        "      else:\n",
        "        print(\"Bu kelime sözlükte yok. Sözlüğe eklemek ister misiniz? E / H\")\n",
        "\n",
        "        cevap = input()\n",
        "        if(cevap==\"E\" or cevap==\"e\"):\n",
        "          print(\"Yeni kelimenin Türkçesini giriniz\")\n",
        "          yenikelimeturkce = input()\n",
        "          kaydet()\n",
        "          print(\"Yeni Kelime sözlüğe eklendi \\n \")\n",
        "          dic[x] = yenikelimeturkce\n",
        "          x=False\n",
        "\n",
        "        else:\n",
        "          x=False\n",
        "  \n",
        "def cikis():\n",
        "  print(\"Çıkış yapıldı\")\n",
        "  clear_output()\n",
        "  j=False\n",
        "\n",
        "\n",
        "def main():\n",
        "  listeyi_doldur()\n",
        "  j=True\n",
        "  while j:\n",
        "    print(\"Sözlüğü listelemek için L: \\nAramak için A: \\nÇıkmak için E basınız: \\n\")\n",
        "    istek = input()\n",
        "\n",
        "    if istek==\"A\" or istek==\"a\":\n",
        "      arama()\n",
        "    elif istek==\"L\" or istek==\"l\":\n",
        "      listele()\n",
        "    elif istek==\"E\" or \"e\":\n",
        "      cikis()     \n",
        "  \n",
        "if __name__== \"__main__\":\n",
        "  main()\n",
        "\n",
        "  \n",
        "   \n",
        "  \n"
      ],
      "execution_count": 164,
      "outputs": [
        {
          "output_type": "stream",
          "text": [
            "Sözlüğü listelemek için L: \n",
            "Aramak için A: \n",
            "Çıkmak için E basınız: \n",
            "\n"
          ],
          "name": "stdout"
        },
        {
          "output_type": "error",
          "ename": "KeyboardInterrupt",
          "evalue": "ignored",
          "traceback": [
            "\u001b[0;31m---------------------------------------------------------------------------\u001b[0m",
            "\u001b[0;31mKeyboardInterrupt\u001b[0m                         Traceback (most recent call last)",
            "\u001b[0;32m/usr/local/lib/python3.6/dist-packages/ipykernel/kernelbase.py\u001b[0m in \u001b[0;36m_input_request\u001b[0;34m(self, prompt, ident, parent, password)\u001b[0m\n\u001b[1;32m    729\u001b[0m             \u001b[0;32mtry\u001b[0m\u001b[0;34m:\u001b[0m\u001b[0;34m\u001b[0m\u001b[0;34m\u001b[0m\u001b[0m\n\u001b[0;32m--> 730\u001b[0;31m                 \u001b[0mident\u001b[0m\u001b[0;34m,\u001b[0m \u001b[0mreply\u001b[0m \u001b[0;34m=\u001b[0m \u001b[0mself\u001b[0m\u001b[0;34m.\u001b[0m\u001b[0msession\u001b[0m\u001b[0;34m.\u001b[0m\u001b[0mrecv\u001b[0m\u001b[0;34m(\u001b[0m\u001b[0mself\u001b[0m\u001b[0;34m.\u001b[0m\u001b[0mstdin_socket\u001b[0m\u001b[0;34m,\u001b[0m \u001b[0;36m0\u001b[0m\u001b[0;34m)\u001b[0m\u001b[0;34m\u001b[0m\u001b[0;34m\u001b[0m\u001b[0m\n\u001b[0m\u001b[1;32m    731\u001b[0m             \u001b[0;32mexcept\u001b[0m \u001b[0mException\u001b[0m\u001b[0;34m:\u001b[0m\u001b[0;34m\u001b[0m\u001b[0;34m\u001b[0m\u001b[0m\n",
            "\u001b[0;32m/usr/local/lib/python3.6/dist-packages/jupyter_client/session.py\u001b[0m in \u001b[0;36mrecv\u001b[0;34m(self, socket, mode, content, copy)\u001b[0m\n\u001b[1;32m    802\u001b[0m         \u001b[0;32mtry\u001b[0m\u001b[0;34m:\u001b[0m\u001b[0;34m\u001b[0m\u001b[0;34m\u001b[0m\u001b[0m\n\u001b[0;32m--> 803\u001b[0;31m             \u001b[0mmsg_list\u001b[0m \u001b[0;34m=\u001b[0m \u001b[0msocket\u001b[0m\u001b[0;34m.\u001b[0m\u001b[0mrecv_multipart\u001b[0m\u001b[0;34m(\u001b[0m\u001b[0mmode\u001b[0m\u001b[0;34m,\u001b[0m \u001b[0mcopy\u001b[0m\u001b[0;34m=\u001b[0m\u001b[0mcopy\u001b[0m\u001b[0;34m)\u001b[0m\u001b[0;34m\u001b[0m\u001b[0;34m\u001b[0m\u001b[0m\n\u001b[0m\u001b[1;32m    804\u001b[0m         \u001b[0;32mexcept\u001b[0m \u001b[0mzmq\u001b[0m\u001b[0;34m.\u001b[0m\u001b[0mZMQError\u001b[0m \u001b[0;32mas\u001b[0m \u001b[0me\u001b[0m\u001b[0;34m:\u001b[0m\u001b[0;34m\u001b[0m\u001b[0;34m\u001b[0m\u001b[0m\n",
            "\u001b[0;32m/usr/local/lib/python3.6/dist-packages/zmq/sugar/socket.py\u001b[0m in \u001b[0;36mrecv_multipart\u001b[0;34m(self, flags, copy, track)\u001b[0m\n\u001b[1;32m    465\u001b[0m         \"\"\"\n\u001b[0;32m--> 466\u001b[0;31m         \u001b[0mparts\u001b[0m \u001b[0;34m=\u001b[0m \u001b[0;34m[\u001b[0m\u001b[0mself\u001b[0m\u001b[0;34m.\u001b[0m\u001b[0mrecv\u001b[0m\u001b[0;34m(\u001b[0m\u001b[0mflags\u001b[0m\u001b[0;34m,\u001b[0m \u001b[0mcopy\u001b[0m\u001b[0;34m=\u001b[0m\u001b[0mcopy\u001b[0m\u001b[0;34m,\u001b[0m \u001b[0mtrack\u001b[0m\u001b[0;34m=\u001b[0m\u001b[0mtrack\u001b[0m\u001b[0;34m)\u001b[0m\u001b[0;34m]\u001b[0m\u001b[0;34m\u001b[0m\u001b[0;34m\u001b[0m\u001b[0m\n\u001b[0m\u001b[1;32m    467\u001b[0m         \u001b[0;31m# have first part already, only loop while more to receive\u001b[0m\u001b[0;34m\u001b[0m\u001b[0;34m\u001b[0m\u001b[0;34m\u001b[0m\u001b[0m\n",
            "\u001b[0;32mzmq/backend/cython/socket.pyx\u001b[0m in \u001b[0;36mzmq.backend.cython.socket.Socket.recv\u001b[0;34m()\u001b[0m\n",
            "\u001b[0;32mzmq/backend/cython/socket.pyx\u001b[0m in \u001b[0;36mzmq.backend.cython.socket.Socket.recv\u001b[0;34m()\u001b[0m\n",
            "\u001b[0;32mzmq/backend/cython/socket.pyx\u001b[0m in \u001b[0;36mzmq.backend.cython.socket._recv_copy\u001b[0;34m()\u001b[0m\n",
            "\u001b[0;32m/usr/local/lib/python3.6/dist-packages/zmq/backend/cython/checkrc.pxd\u001b[0m in \u001b[0;36mzmq.backend.cython.checkrc._check_rc\u001b[0;34m()\u001b[0m\n",
            "\u001b[0;31mKeyboardInterrupt\u001b[0m: ",
            "\nDuring handling of the above exception, another exception occurred:\n",
            "\u001b[0;31mKeyboardInterrupt\u001b[0m                         Traceback (most recent call last)",
            "\u001b[0;32m<ipython-input-164-85f5dac21d85>\u001b[0m in \u001b[0;36m<module>\u001b[0;34m()\u001b[0m\n\u001b[1;32m     73\u001b[0m \u001b[0;34m\u001b[0m\u001b[0m\n\u001b[1;32m     74\u001b[0m \u001b[0;32mif\u001b[0m \u001b[0m__name__\u001b[0m\u001b[0;34m==\u001b[0m \u001b[0;34m\"__main__\"\u001b[0m\u001b[0;34m:\u001b[0m\u001b[0;34m\u001b[0m\u001b[0;34m\u001b[0m\u001b[0m\n\u001b[0;32m---> 75\u001b[0;31m   \u001b[0mmain\u001b[0m\u001b[0;34m(\u001b[0m\u001b[0;34m)\u001b[0m\u001b[0;34m\u001b[0m\u001b[0;34m\u001b[0m\u001b[0m\n\u001b[0m\u001b[1;32m     76\u001b[0m \u001b[0;34m\u001b[0m\u001b[0m\n\u001b[1;32m     77\u001b[0m \u001b[0;34m\u001b[0m\u001b[0m\n",
            "\u001b[0;32m<ipython-input-164-85f5dac21d85>\u001b[0m in \u001b[0;36mmain\u001b[0;34m()\u001b[0m\n\u001b[1;32m     63\u001b[0m   \u001b[0;32mwhile\u001b[0m \u001b[0mj\u001b[0m\u001b[0;34m:\u001b[0m\u001b[0;34m\u001b[0m\u001b[0;34m\u001b[0m\u001b[0m\n\u001b[1;32m     64\u001b[0m     \u001b[0mprint\u001b[0m\u001b[0;34m(\u001b[0m\u001b[0;34m\"Sözlüğü listelemek için L: \\nAramak için A: \\nÇıkmak için E basınız: \\n\"\u001b[0m\u001b[0;34m)\u001b[0m\u001b[0;34m\u001b[0m\u001b[0;34m\u001b[0m\u001b[0m\n\u001b[0;32m---> 65\u001b[0;31m     \u001b[0mistek\u001b[0m \u001b[0;34m=\u001b[0m \u001b[0minput\u001b[0m\u001b[0;34m(\u001b[0m\u001b[0;34m)\u001b[0m\u001b[0;34m\u001b[0m\u001b[0;34m\u001b[0m\u001b[0m\n\u001b[0m\u001b[1;32m     66\u001b[0m \u001b[0;34m\u001b[0m\u001b[0m\n\u001b[1;32m     67\u001b[0m     \u001b[0;32mif\u001b[0m \u001b[0mistek\u001b[0m\u001b[0;34m==\u001b[0m\u001b[0;34m\"A\"\u001b[0m \u001b[0;32mor\u001b[0m \u001b[0mistek\u001b[0m\u001b[0;34m==\u001b[0m\u001b[0;34m\"a\"\u001b[0m\u001b[0;34m:\u001b[0m\u001b[0;34m\u001b[0m\u001b[0;34m\u001b[0m\u001b[0m\n",
            "\u001b[0;32m/usr/local/lib/python3.6/dist-packages/ipykernel/kernelbase.py\u001b[0m in \u001b[0;36mraw_input\u001b[0;34m(self, prompt)\u001b[0m\n\u001b[1;32m    703\u001b[0m             \u001b[0mself\u001b[0m\u001b[0;34m.\u001b[0m\u001b[0m_parent_ident\u001b[0m\u001b[0;34m,\u001b[0m\u001b[0;34m\u001b[0m\u001b[0;34m\u001b[0m\u001b[0m\n\u001b[1;32m    704\u001b[0m             \u001b[0mself\u001b[0m\u001b[0;34m.\u001b[0m\u001b[0m_parent_header\u001b[0m\u001b[0;34m,\u001b[0m\u001b[0;34m\u001b[0m\u001b[0;34m\u001b[0m\u001b[0m\n\u001b[0;32m--> 705\u001b[0;31m             \u001b[0mpassword\u001b[0m\u001b[0;34m=\u001b[0m\u001b[0;32mFalse\u001b[0m\u001b[0;34m,\u001b[0m\u001b[0;34m\u001b[0m\u001b[0;34m\u001b[0m\u001b[0m\n\u001b[0m\u001b[1;32m    706\u001b[0m         )\n\u001b[1;32m    707\u001b[0m \u001b[0;34m\u001b[0m\u001b[0m\n",
            "\u001b[0;32m/usr/local/lib/python3.6/dist-packages/ipykernel/kernelbase.py\u001b[0m in \u001b[0;36m_input_request\u001b[0;34m(self, prompt, ident, parent, password)\u001b[0m\n\u001b[1;32m    733\u001b[0m             \u001b[0;32mexcept\u001b[0m \u001b[0mKeyboardInterrupt\u001b[0m\u001b[0;34m:\u001b[0m\u001b[0;34m\u001b[0m\u001b[0;34m\u001b[0m\u001b[0m\n\u001b[1;32m    734\u001b[0m                 \u001b[0;31m# re-raise KeyboardInterrupt, to truncate traceback\u001b[0m\u001b[0;34m\u001b[0m\u001b[0;34m\u001b[0m\u001b[0;34m\u001b[0m\u001b[0m\n\u001b[0;32m--> 735\u001b[0;31m                 \u001b[0;32mraise\u001b[0m \u001b[0mKeyboardInterrupt\u001b[0m\u001b[0;34m\u001b[0m\u001b[0;34m\u001b[0m\u001b[0m\n\u001b[0m\u001b[1;32m    736\u001b[0m             \u001b[0;32melse\u001b[0m\u001b[0;34m:\u001b[0m\u001b[0;34m\u001b[0m\u001b[0;34m\u001b[0m\u001b[0m\n\u001b[1;32m    737\u001b[0m                 \u001b[0;32mbreak\u001b[0m\u001b[0;34m\u001b[0m\u001b[0;34m\u001b[0m\u001b[0m\n",
            "\u001b[0;31mKeyboardInterrupt\u001b[0m: "
          ]
        }
      ]
    }
  ]
}